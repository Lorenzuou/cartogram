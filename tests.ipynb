{
 "cells": [
  {
   "cell_type": "code",
   "execution_count": 6,
   "metadata": {},
   "outputs": [],
   "source": [
    "import pandas as pd\n",
    "import numpy as np\n",
    "import cv2\n",
    "from matplotlib import pyplot as plt"
   ]
  },
  {
   "cell_type": "code",
   "execution_count": 18,
   "metadata": {},
   "outputs": [],
   "source": [
    "img = cv2.imread('assets/Imagem_Simples.jpg')"
   ]
  },
  {
   "cell_type": "code",
   "execution_count": 19,
   "metadata": {},
   "outputs": [
    {
     "name": "stdout",
     "output_type": "stream",
     "text": [
      "Q1 (0, 0, 576, 360)\n",
      "Q2 (576, 0, 1152, 360)\n",
      "Q3 (0, 360, 576, 720)\n",
      "Q4 (576, 360, 1152, 720)\n"
     ]
    },
    {
     "data": {
      "text/plain": [
       "<matplotlib.image.AxesImage at 0x7f81afddc290>"
      ]
     },
     "execution_count": 19,
     "metadata": {},
     "output_type": "execute_result"
    },
    {
     "data": {
      "image/png": "[encoded data removed]",
      "text/plain": [
       "<Figure size 640x480 with 1 Axes>"
      ]
     },
     "metadata": {},
     "output_type": "display_data"
    }
   ],
   "source": [
    "#divide the img image array into 4 quadrants, get the quadrants coordinates and store them in a dictionary\n",
    "quadrants = {}\n",
    "\n",
    "quadrants['Q1'] = (0, 0, img.shape[1]//2, img.shape[0]//2)\n",
    "quadrants['Q2'] = (img.shape[1]//2, 0, img.shape[1], img.shape[0]//2)\n",
    "quadrants['Q3'] = (0, img.shape[0]//2, img.shape[1]//2, img.shape[0])\n",
    "quadrants['Q4'] = (img.shape[1]//2, img.shape[0]//2, img.shape[1], img.shape[0])\n",
    "\n",
    "\n",
    "#iterate over the quadrants and draw a rectangle around them\n",
    "for key, value in quadrants.items():\n",
    "    print(key, value)\n",
    "    cv2.rectangle(img, (value[0], value[1]), (value[2], value[3]), (0, 0, 0), 2)\n",
    "    \n",
    "\n",
    "\n",
    "#show the image\n",
    "plt.imshow(cv2.cvtColor(img, cv2.COLOR_BGR2RGB))"
   ]
  },
  {
   "cell_type": "code",
   "execution_count": null,
   "metadata": {},
   "outputs": [],
   "source": []
  },
  {
   "cell_type": "code",
   "execution_count": 4,
   "metadata": {},
   "outputs": [],
   "source": [
    "\n",
    "# Initialize the GeoJSON\n",
    "geojson = {\n",
    "    \"type\": \"FeatureCollection\",\n",
    "    \"features\": []\n",
    "}\n",
    "count = 0\n",
    "#resize image, 100x100\n",
    "#save image resized \n",
    "count = 0\n",
    "\n",
    "values = {\"Q1\": 1, \"Q2\": 2, \"Q3\": 3, \"Q4\": 4}\n",
    "\n",
    "# Iterate over the numpy array in chunks of region_size\n",
    "for region_key in quadrants.keys():\n",
    "        # Calculate the average grayscale value in this region\n",
    "\n",
    "\n",
    "\n",
    "        polygon = {\n",
    "            \"type\": \"Polygon\",\n",
    "            \"coordinates\": [[\n",
    "                [float(quadrants[region_key][0]), float(quadrants[region_key][1])],\n",
    "                [float(quadrants[region_key][2]), float(quadrants[region_key][1])],\n",
    "                [float(quadrants[region_key][2]), float(quadrants[region_key][3])],\n",
    "                [float(quadrants[region_key][0]), float(quadrants[region_key][3])],\n",
    "                [float(quadrants[region_key][0]), float(quadrants[region_key][1])]\n",
    "            ]]\n",
    "        }\n",
    "\n",
    "        # Create a feature for this region\n",
    "        feature = {\n",
    "            \"type\": \"Feature\",\n",
    "            \"geometry\": polygon,\n",
    "            \"id\": count,\n",
    "            \"properties\": {\n",
    "                \"power\": values[region_key],\n",
    "                \"region_name\": f\"region_{region_key}\"\n",
    "            }\n",
    "        }\n",
    "        count += 1\n",
    "\n",
    "        # Add the feature to the GeoJSON\n",
    "        geojson[\"features\"].append(feature)"
   ]
  },
  {
   "cell_type": "code",
   "execution_count": null,
   "metadata": {},
   "outputs": [],
   "source": []
  },
  {
   "cell_type": "markdown",
   "metadata": {},
   "source": []
  },
  {
   "cell_type": "code",
   "execution_count": 4,
   "metadata": {},
   "outputs": [
    {
     "name": "stdout",
     "output_type": "stream",
     "text": [
      "(947, 800)\n",
      "(284, 240)\n"
     ]
    }
   ],
   "source": [
    "import cv2\n",
    "import numpy as np\n",
    "import os \n",
    "\n",
    "\n",
    "# Read the image\n",
    "# image = cv2.imread('assets/Imagem_Simples.jpg')\n",
    "image = cv2.imread('girl.jpg')\n",
    "\n",
    "os.makedirs('assets/filtros', exist_ok=True)\n",
    "\n",
    "# Convert the image to grayscale\n",
    "grayscale_image = cv2.cvtColor(image, cv2.COLOR_BGR2GRAY)\n",
    "\n",
    "# Apply the Sobel filter\n",
    "sobelx = cv2.Sobel(grayscale_image, cv2.CV_64F, 1, 0, ksize=3)\n",
    "#save image at filtros \n",
    "cv2.imwrite('assets/filtros/sobelx.jpg', sobelx)\n",
    "\n",
    "sobely = cv2.Sobel(grayscale_image, cv2.CV_64F, 0, 1, ksize=3)\n",
    "#save image at filtros\n",
    "cv2.imwrite('assets/filtros/sobely.jpg', sobely)\n",
    "\n",
    "sobel = np.hypot(sobelx, sobely)\n",
    "\n",
    "#save image at filtros\n",
    "cv2.imwrite('assets/filtros/sobel.jpg', sobel)\n",
    "\n",
    "\n",
    "#save the image\n",
    "count = 0\n",
    "# Apply a smoothing filter\n",
    "BLUR_RADIUS = 3  \n",
    "smoothed_image = cv2.blur(sobel, (BLUR_RADIUS, BLUR_RADIUS))\n",
    "#save the image\n",
    "print(smoothed_image.shape)\n",
    "cv2.imwrite('assets/filtros/smoothed_image.jpg', smoothed_image)\n",
    "\n",
    "smoothed_image = cv2.resize(smoothed_image, (0, 0), fx=0.3, fy=0.3)\n",
    "grayscale_image = cv2.resize(grayscale_image, (0, 0), fx=0.3, fy=0.3)\n",
    "print(smoothed_image.shape)\n",
    "\n",
    "#save the image\n",
    "cv2.imwrite('assets/smoothed_image.jpg', smoothed_image)\n",
    "\n",
    "# Initialize the GeoJSON\n",
    "geojson = {\n",
    "    \"type\": \"FeatureCollection\",\n",
    "    \"features\": []\n",
    "}\n",
    "\n",
    "gr_values = []\n",
    "\n",
    "values = []\n",
    "\n",
    "REGION_SIZE = 8  # Set this to the desired region size\n",
    "\n",
    "# Iterate over the numpy array in chunks of region_size\n",
    "for row in range(0, smoothed_image.shape[0], REGION_SIZE):\n",
    "    for col in range(0, smoothed_image.shape[1], REGION_SIZE):\n",
    "        # Calculate the average grayscale value in this region\n",
    "        # region = smoothed_image[row:row+REGION_SIZE, col:col+REGION_SIZE]\n",
    "        region = grayscale_image[row:row+REGION_SIZE, col:col+REGION_SIZE]\n",
    "        gr_value = np.mean(region)\n",
    "        gr_values.append(gr_value)\n",
    "\n",
    "        values.append(gr_value)\n",
    "        \n",
    "\n",
    "        # Create a polygon for this region\n",
    "        polygon = {\n",
    "            \"type\": \"Polygon\",\n",
    "            \"coordinates\": [[\n",
    "                [float(col), float(row)],\n",
    "                [float(col + REGION_SIZE), float(row)],\n",
    "                [float(col + REGION_SIZE), float(row + REGION_SIZE)],\n",
    "                [float(col), float(row + REGION_SIZE)],\n",
    "                [float(col), float(row)]\n",
    "            ]]\n",
    "        }\n",
    "\n",
    "        # Create a feature for this region\n",
    "        feature = {\n",
    "            \"type\": \"Feature\",\n",
    "            \"geometry\": polygon,\n",
    "            \"id\": row // REGION_SIZE * smoothed_image.shape[1] // REGION_SIZE + col // REGION_SIZE,\n",
    "            \"properties\": {\n",
    "                \"gradient_value\": gr_value,\n",
    "                \"region_name\": f\"region_{count}\"\n",
    "            }\n",
    "        }\n",
    "        count += 1\n",
    "        # Add the feature to the GeoJSON\n",
    "        geojson[\"features\"].append(feature)\n",
    "\n",
    "#save json\n",
    "import json\n",
    "with open('assets/geojson.json', 'w') as f:\n",
    "    json.dump(geojson, f)\n",
    "\n",
    "\n",
    "#run the shell command \"$ cartogram -p geojson.json \"\n",
    "# os.system('cartogram -p assets/geojson.json > region_name ')"
   ]
  },
  {
   "cell_type": "code",
   "execution_count": 2,
   "metadata": {},
   "outputs": [
    {
     "name": "stdout",
     "output_type": "stream",
     "text": [
      "1080 1080\n"
     ]
    }
   ],
   "source": [
    "print(len(gr_values), len(geojson['features']))"
   ]
  },
  {
   "cell_type": "code",
   "execution_count": 3,
   "metadata": {},
   "outputs": [
    {
     "data": {
      "text/plain": [
       "68.291796875"
      ]
     },
     "execution_count": 3,
     "metadata": {},
     "output_type": "execute_result"
    }
   ],
   "source": [
    "non_zero_gr_values =[x for x in gr_values if x > 0]\n",
    "mean = np.mean(non_zero_gr_values)\n",
    "mean"
   ]
  },
  {
   "cell_type": "markdown",
   "metadata": {},
   "source": [
    "## populate density (execute cartogram algorithm)"
   ]
  },
  {
   "cell_type": "code",
   "execution_count": 7,
   "metadata": {},
   "outputs": [
    {
     "name": "stdout",
     "output_type": "stream",
     "text": [
      "1080\n",
      "1080\n"
     ]
    }
   ],
   "source": [
    "# Load the CSV file into a DataFrame\n",
    "df = pd.read_csv('assets/geojson_data.csv')\n",
    "print(len(df))\n",
    "print(len(gr_values))\n",
    "\n",
    "# Initialize the count for the region name\n",
    "# count = 0\n",
    "df[\"Region Data\"] = values\n",
    "# df\n",
    "\n",
    "\n",
    "# df[\"Region Data\"].iloc[96] = 6\n",
    "\n",
    "# df[\"Region Data\"] = gr_values\n",
    "# #put the mean of non zero values in the region data\n",
    "# df[\"Region Data\"] = df[\"Region Data\"].replace(0, mean)\n",
    "\n",
    "\n",
    "\n",
    "#edit the csv file \n",
    "\n",
    "#save df \n",
    "df.to_csv('assets/geojson_data.csv', index=False)"
   ]
  },
  {
   "cell_type": "code",
   "execution_count": 38,
   "metadata": {},
   "outputs": [],
   "source": []
  }
 ],
 "metadata": {
  "kernelspec": {
   "display_name": "Python 3",
   "language": "python",
   "name": "python3"
  },
  "language_info": {
   "codemirror_mode": {
    "name": "ipython",
    "version": 3
   },
   "file_extension": ".py",
   "mimetype": "text/x-python",
   "name": "python",
   "nbconvert_exporter": "python",
   "pygments_lexer": "ipython3",
   "version": "3.11.5"
  }
 },
 "nbformat": 4,
 "nbformat_minor": 2
}
